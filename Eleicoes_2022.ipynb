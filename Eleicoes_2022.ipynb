{
  "cells": [
    {
      "cell_type": "code",
      "execution_count": 22,
      "metadata": {
        "id": "J54bAp3iMNTC"
      },
      "outputs": [],
      "source": [
        "#!pip install requests"
      ]
    },
    {
      "cell_type": "code",
      "execution_count": 23,
      "metadata": {
        "id": "8rRba7GZMT09"
      },
      "outputs": [],
      "source": [
        "#!pip install json"
      ]
    },
    {
      "cell_type": "code",
      "execution_count": 24,
      "metadata": {
        "id": "Zt1m9DA3MT5f"
      },
      "outputs": [],
      "source": [
        "#!pip install pandas"
      ]
    },
    {
      "cell_type": "markdown",
      "source": [
        "###Importando bibliotecas"
      ],
      "metadata": {
        "id": "GjhB28Fzsy7_"
      }
    },
    {
      "cell_type": "code",
      "execution_count": 26,
      "metadata": {
        "id": "Ylx-9gzCL9xH"
      },
      "outputs": [],
      "source": [
        "import requests\n",
        "import json\n",
        "import pandas as pd\n",
        "import time\n",
        "import matplotlib.pyplot as plt"
      ]
    },
    {
      "cell_type": "markdown",
      "source": [
        "####Informe qual turno vai realizar a consulta"
      ],
      "metadata": {
        "id": "qgSREtwctWw6"
      }
    },
    {
      "cell_type": "code",
      "source": [
        "turno = 2"
      ],
      "metadata": {
        "id": "jnARv3W6mIww"
      },
      "execution_count": 37,
      "outputs": []
    },
    {
      "cell_type": "code",
      "execution_count": 28,
      "metadata": {
        "id": "MKgelAPfMJNL"
      },
      "outputs": [],
      "source": [
        "#API para consulta dos dados\n",
        "\n",
        "if turno == 1:\n",
        "    url = 'http://resultados.tse.jus.br/oficial/ele2022/544/dados-simplificados/br/br-c0001-e000544-r.json'\n",
        "else:\n",
        "    url = 'http://resultados.tse.jus.br/oficial/ele2022/545/dados-simplificados/br/br-c0001-e000545-r.json'"
      ]
    },
    {
      "cell_type": "markdown",
      "source": [
        "####Extração, carregamento e tratamentos dos dados. Geração do grafico."
      ],
      "metadata": {
        "id": "0ocSWnPJtu1A"
      }
    },
    {
      "cell_type": "code",
      "source": [
        "def apuracao():\n",
        "    data = requests.get(url)\n",
        "    json_data = json.loads(data.content)\n",
        "    candidato = []\n",
        "    partido = []\n",
        "    votos = []\n",
        "    porcentagem = []\n",
        "    for informacoes in json_data['cand']:\n",
        "        candidato.append(informacoes['nm'])\n",
        "        votos.append(informacoes['vap'])\n",
        "        porcentagem.append(informacoes['pvap'])\n",
        "    df_eleicao = pd.DataFrame(list(zip(candidato, votos, porcentagem)),\n",
        "                              columns=['Candidato', 'Nº Votos', 'Porcentagem'])\n",
        "    df_eleicao['Nº Votos'] = df_eleicao['Nº Votos'].astype(int)\n",
        "    df_eleicao['Porcentagem'] = df_eleicao['Porcentagem'].str.replace(',', '.', regex=True)\n",
        "    df_eleicao['Porcentagem'] = df_eleicao['Porcentagem'].astype(float)\n",
        "    # df_eleicao.info()\n",
        "    df1 = df_eleicao['Nº Votos'].iloc[2:11].sum()\n",
        "    # df1\n",
        "    df2 = df_eleicao['Porcentagem'].iloc[2:11].sum()\n",
        "    # df2\n",
        "    columns = ['Candidato', 'Nº Votos', 'Porcentagem']\n",
        "    # columns\n",
        "    if turno == 1:\n",
        "      z = ['OUTROS', df1, df2]\n",
        "      # z\n",
        "      dict_from_list = dict(zip(columns, z))\n",
        "      # print(dict_from_list)\n",
        "      df_eleicao2 = pd.DataFrame([dict_from_list])\n",
        "      # df_eleicao2\n",
        "    df_eleicao = df_eleicao.iloc[0:2]\n",
        "    if turno == 1:\n",
        "      df_eleicao = pd.merge(df_eleicao, df_eleicao2, how='outer')\n",
        "    return df_eleicao"
      ],
      "metadata": {
        "id": "HQp76vI7mHBo"
      },
      "execution_count": 29,
      "outputs": []
    },
    {
      "cell_type": "code",
      "source": [
        "def apurar():\n",
        "    df_eleicao = apuracao()\n",
        "    df_eleicao\n",
        "    df_candidato = df_eleicao['Candidato'].tolist()\n",
        "    df_votos = df_eleicao['Nº Votos'].tolist()\n",
        "    df_percentual = df_eleicao['Porcentagem'].tolist()\n",
        "    \n",
        "    if (df_eleicao['Nº Votos'].sum() == 0):\n",
        "      print(df_eleicao)\n",
        "      print('Apuração ainda nao iniciada!')\n",
        "    else:\n",
        "      print(df_eleicao)\n",
        "      # Gráfico de Pizza\n",
        "      fig = plt.figure(figsize=(10, 7))\n",
        "      plt.pie(df_votos, labels=df_candidato, autopct='%1.2f%%')\n",
        "      plt.show()\n",
        "      #st.pyplot(plt)\n",
        "      plt.clf()\n",
        "\n",
        "      # Gráfico de Barras\n",
        "      plt.bar(df_candidato, df_percentual)\n",
        "      plt.xlabel(\"Candidatos\")\n",
        "      plt.ylabel(\"% Votos\")\n",
        "      plt.title(\"Eleições 2º Turno - 2022\")\n",
        "      #plt.show()\n",
        "      #st.pyplot(plt)\n",
        "      plt.clf()"
      ],
      "metadata": {
        "id": "a8ppb4GamPWg"
      },
      "execution_count": 30,
      "outputs": []
    },
    {
      "cell_type": "code",
      "source": [
        "#Executando a função\n",
        "apurar()"
      ],
      "metadata": {
        "colab": {
          "base_uri": "https://localhost:8080/"
        },
        "id": "l5PlgT4DmSPR",
        "outputId": "bbf0976f-701b-4358-e9d8-70e821f21b87"
      },
      "execution_count": 31,
      "outputs": [
        {
          "output_type": "stream",
          "name": "stdout",
          "text": [
            "        Candidato  Nº Votos  Porcentagem\n",
            "0            LULA         0          0.0\n",
            "1  JAIR BOLSONARO         0          0.0\n",
            "Apuração ainda nao iniciada!\n"
          ]
        }
      ]
    },
    {
      "cell_type": "code",
      "source": [],
      "metadata": {
        "id": "pRUcWwVmpsnK"
      },
      "execution_count": 31,
      "outputs": []
    }
  ],
  "metadata": {
    "colab": {
      "provenance": []
    },
    "kernelspec": {
      "display_name": "Python 3",
      "name": "python3"
    },
    "language_info": {
      "name": "python"
    }
  },
  "nbformat": 4,
  "nbformat_minor": 0
}